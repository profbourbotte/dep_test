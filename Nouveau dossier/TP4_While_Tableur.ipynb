{
 "cells": [
  {
   "cell_type": "markdown",
   "metadata": {
    "slideshow": {
     "slide_type": "slide"
    }
   },
   "source": [
    "# Programmation – TP n°4 : La boucle While et utilisation du tableur\n",
    "\n",
    "---\n",
    "\n",
    "### Table of contents\n",
    "- [Exercice 1](#Exercice-1) : Découverte de la boucle `while`\n",
    "- [Exercice 2](#Exercice-2) : Boucle `while` et fonction `randint`\n",
    "- [Exercice 3](#Exercice-3) : Algorithme de Syracuse\n",
    "- [Exercice 5](#Exercice-5) : Algorithme et Tableur\n",
    "- [Exercice 4](#Exercice-4) : Algorithme et Tableur\n",
    "- [Exercice 6](#Exercice-6) : Découverte du type `list`\n",
    "- [Exercice 7](#Exercice-7) : Listes et calcul de la médiane d'une série\n",
    "---"
   ]
  },
  {
   "cell_type": "markdown",
   "metadata": {
    "slideshow": {
     "slide_type": "slide"
    }
   },
   "source": [
    "### Exercice 1\n",
    "---\n",
    "On considère l'algorithme ci-dessous :  \n",
    "<blockquote>\n",
    "<div>\n",
    "    <div style=\"display: table-cell;vertical-align: top;\">\n",
    "        <p style=\"text-align: center;font-weight:bold;\"><em>Algorithme en Langage naturel</em></p>\n",
    "        <pre><code>VARIABLES   \tx, n : Entiers\n",
    "\n",
    "INITIALISATION  x ← 17\n",
    "                n ← 0\n",
    "TRAITEMENT      Tant que x&lt;30 Faire :\n",
    "                    x ← x + 3\n",
    "                    n ← n + 1\n",
    "                FinTantQue\n",
    "SORTIE          Afficher n</code></pre>\n",
    "    </div>\n",
    "    <div style=\"display: table-cell;vertical-align: top;\">\n",
    "        <p style=\"text-align: center;font-weight:bold;\"><em>Algorithme en Python</em></p>\n",
    "        <pre><code class=\"cm-s-ipython language-python\">\n",
    "\n",
    "<span class=\"cm-variable\">x</span> = <span class=\"cm-number\">17</span>\n",
    "<span class=\"cm-variable\">n</span> = <span class=\"cm-number\">0</span>\n",
    "<span class=\"cm-keyword\">while</span> <span class=\"cm-variable\">x</span><span class=\"cm-operator\">&lt;</span><span class=\"cm-number\">30</span> :\n",
    "    <span class=\"cm-variable\">x</span> = <span class=\"cm-variable\">x</span> <span class=\"cm-operator\">+</span> <span class=\"cm-number\">3</span>\n",
    "    <span class=\"cm-variable\">n</span> = <span class=\"cm-variable\">n</span> <span class=\"cm-operator\">+</span> <span class=\"cm-number\">1</span>\n",
    "\n",
    "<span class=\"cm-builtin\">print</span>(<span class=\"cm-string\">\"x =\"</span>,<span class=\"cm-variable\">x</span>)\n",
    "</code></pre>\n",
    "    </div>\n",
    "</div>\n",
    "</blockquote>\n",
    "\n",
    "1. Faire tourner l'algorithme à la main.\n",
    "2. Que fait-il ?\n",
    "3. Que représente le nombre `n` ?"
   ]
  },
  {
   "cell_type": "markdown",
   "metadata": {
    "slideshow": {
     "slide_type": "slide"
    }
   },
   "source": [
    "### Exercice 2\n",
    "---\n",
    "On considère l'algorithme ci-dessous :\n",
    "> ```python\n",
    "> from random import randint\n",
    "> \n",
    "> x = randint(1, 6)\n",
    "> n = 1\n",
    "> while x != 6:\n",
    ">     x = randint(1,6)\n",
    ">     n = n + 1\n",
    "> print(\"n =\", n)\n",
    "> ```\n",
    "\n",
    "La fonction `randint(i, j)` du module `random` de Python permet de renvoyer un entier aléatoire compris entre les entiers `i` et `j`.  \n",
    "1. Faire tourner le programme à la main dans le cas où `randint(1, 6)` retourne 6 à la ligne 3.\n",
    "2. Implémenter ce programme en Python. Que représente la valeur de `n` affichée ?"
   ]
  },
  {
   "cell_type": "markdown",
   "metadata": {
    "slideshow": {
     "slide_type": "slide"
    }
   },
   "source": [
    "### Exercice 3\n",
    "---\n",
    "On considère l'algorithme ci-dessous :\n",
    "<blockquote>\n",
    "<div style=\"display: table-cell;vertical-align: top;\">\n",
    "    <p style=\"text-align: center;font-weight:bold;\"><em>Algorithme en Langage naturel</em></p>\n",
    "    <pre><code>VARIABLES   \tn : entier strictement positif\n",
    "\n",
    "ENTREE          Saisir n\n",
    "TRAITEMENT      Tant que n > 1 Faire :\n",
    "\t\t\t\t    Si n est pair Alors\n",
    "\t\t\t\t        n ← n/2\n",
    "\t\t\t\t    Sinon\n",
    "\t\t\t\t        n ← 3n + 1\n",
    "\t\t\t\t    FinSi\n",
    "\t\t\t\tFinTantQue\n",
    "SORTIE          Afficher n</code></pre>\n",
    "</div>\n",
    "</blockquote>\n",
    "\n",
    "1. Faire fonctionner l’algorithme « à la main » pour `n = 6` et `n = 7`.  \n",
    "On notera dans chaque cas le nombre d'itérations ainsi que la plus grande valeur atteinte par la variable `n`.\n",
    "2. Implémenter cet algorithme en Python puis le tester pour différentes valeurs de `n`. Quelle conjecture peut-on faire ?\n",
    "3. Modifier le programme afin de déterminer le nombre d’itérations réalisées. On pourra introduire une nouvelle variable `nbPassages`.\n",
    "4. Modifier une nouvelle fois le programme pour déterminer la plus grande valeur atteinte par `n`.  \n",
    "On pourra introduire une nouvelle variable `nMax`."
   ]
  },
  {
   "cell_type": "markdown",
   "metadata": {
    "slideshow": {
     "slide_type": "slide"
    }
   },
   "source": [
    "### Exercice 4\n",
    "---\n",
    "\n",
    "Une usine lance la fabrication d'un nouveau modèle de téléphone portable en janvier 2013 : Elle fabrique 2 000 téléphones le $1^{er}$ mois et souhaite augmenter sa production de 150 modèles supplémentaires chaque mois.  \n",
    "On note $p_{n}$ la production de ce modèle le $n^{ème}$ mois et $S_{n}$ la production totale sur la période des $n$ premiers mois.  \n",
    "\n",
    "**Partie A : À l'aide du tableur**\n",
    "> 1. Calculer $p_{1}$, $p_{2}$ et $p_{3}$ puis donner une formule à insérer dans la feuille de calcul ci-dessous qui, entrée dans la cellule C4 permet par recopie vers le bas d’obtenir la plage des cellules C4:C32.\n",
    "> 2. Calculer $S_{1}$, $S_{2}$ et $S_{3}$ puis donner une formule à insérer dans la feuille de calcul ci-dessous qui, entrée dans la cellule D4 permet par recopie vers le bas d’obtenir la plage des cellules D4:D32.\n",
    "> 3. Compléter la feuille de calcul ci-contre à l'aide d'un tableur et répondre aux questions suivantes :  \n",
    ">     a. À partir de quel mois la production mensuelle sera-t-elle supérieure ou égale à 4 000 téléphones ?  \n",
    ">     b. À partir de quel mois la production totale sur les $n$ premiers mois dépassera-t-elle 100 000 téléphones ?\n",
    "\n",
    "<img class=\"img300\" src=\"TP4_4.jpg\" alt=\"Tableau Excel\" style=\"width: 300px\"/>\n",
    "\n",
    "**Partie B : À l'aide d'un algorithme**\n",
    "> 1. Ecrire en langage naturel un algorithme permettant de trouver le plus petit entier $n$ tel que $p_{n}$ ≥ 4 000.  \n",
    "> Implémenter cet algorithme en Python et le tester en contrôlant la cohérence des résultats.\n",
    "> 2. Ecrire en langage naturel un algorithme permettant de trouver le plus petit entier $n$ tel que $p_{n}$ ≥ 100 000.  \n",
    "> Implémenter cet algorithme en Python et le tester en contrôlant la cohérence des résultats."
   ]
  },
  {
   "cell_type": "markdown",
   "metadata": {
    "slideshow": {
     "slide_type": "slide"
    }
   },
   "source": [
    "### Exercice 5\n",
    "---\n",
    "Le salaire d'un employé était de 15 000 € net en 2004. Chaque année, son salaire augmente de 3% par rapport à l'année précédente.  \n",
    "On note $s_{n}$ son salaire perçu au cours de l'année (2004 + $n$) : Ainsi, $s_{0}$ = 15 000, $s_{1}$ est le salaire perçu au cours de l'année 2005, $s_{2}$ est le salaire perçu au cours de l'année 2006, etc …  \n",
    "\n",
    "**Partie A : À l'aide du tableur**\n",
    "> 1. Montrer que $s_{1} =$ 1,03 $s_{0}$. En déduire les valeurs de $s_{2}$ et $s_{3}$.\n",
    "> 2. Donner une formule à insérer dans la feuille de calcul ci-dessous qui, entrée dans la cellule C4 permet par recopie\n",
    "> vers le bas d’obtenir la plage des cellules C4:C23.\n",
    "> 3. Compléter la feuille de calcul ci-contre à l'aide d'un tableur.  \n",
    "> déterminer à partir de quelle année le salaire annuel devient supérieur ou égal à 24 000 €.\n",
    "\n",
    "<img src=\"https://github.com/profbourbotte/dep_test/blob/master/Nouveau%20dossier/TP4_5.JPG\" alt=\"Tableau Excel\" style=\"width: 300px\"/>\n",
    "\n",
    "**Partie B : À l'aide d'un algorithme**\n",
    "> 1. Ecrire en langage naturel un algorithme permettant de trouver le plus petit entier $n$ tel que $s_{n}$ ≥ 24 000.\n",
    "> 2. Implémenter cet algorithme en Python et le tester en contrôlant la cohérence des résultats."
   ]
  },
  {
   "cell_type": "markdown",
   "metadata": {
    "slideshow": {
     "slide_type": "slide"
    }
   },
   "source": [
    "### Exercice 6\n",
    "---\n",
    "1. Tester le programme ci-dessous puis répondre aux questions suivantes :  \n",
    "    a. Quelle instruction permet de créer en Python la liste `maListe` contenant dans l'ordre les entiers 9, 13, 15 et 11.   \n",
    "    b. Quelle instruction écrire pour afficher le 1<sup>er</sup> élément de la liste ? Le 2<sup>ème</sup> ? <sup>ème</sup> ?\n",
    "> ```python\n",
    "> liste1 = [4, 8, 10, 12]\n",
    "> print(liste1)\n",
    "> print(liste1[0], liste1[3])\n",
    "> ```\n",
    "2. Tester le programme ci-dessous puis répondre aux questions suivantes :  \n",
    "    a. Quelle instruction écrire pour remplacer la valeur 9 de `liste2` par 37 ?  \n",
    "    b. Quelle instruction écrire pour remplacer la valeur 4 de `liste2` par 1 ? \n",
    "> ```python\n",
    "> liste2 = [3, 5, 9, 10, 4]\n",
    "> liste2[1] = 12\n",
    "> print(liste2)\n",
    "> ```\n",
    "3. Tester le programme ci-dessous puis répondre à la question suivante :  \n",
    "    a. Quelle instruction faut-il écrire pour ajouter successivement les entiers 9 et 7 à la liste `liste3`.  \n",
    "    b. Créer une liste `maListe` vide puis ajouter successivement les valeurs 3, 5 et 7. \n",
    "> ```python\n",
    "> liste3 = [1, 4, 8]\n",
    "> liste3.append(5)\n",
    "> print(liste3)\n",
    "> liste3.append(7)\n",
    "> print(liste3)\n",
    "> ```\n",
    "\n",
    "4. Tester le programme ci-dessous. Que fait la fonction `len` de Python ?\n",
    "> ```python\n",
    "> liste4 = [3, 7, 1, 11, -4]\n",
    "> liste5 = [9, 5, 2]\n",
    "> print(liste4)\n",
    "> print(liste5)\n",
    "> ```"
   ]
  },
  {
   "cell_type": "markdown",
   "metadata": {
    "slideshow": {
     "slide_type": "slide"
    }
   },
   "source": [
    "### Exercice 7\n",
    "---\n",
    "L'objectif de cet exercice est de créer un programme permettant de calculer la médiane d'une série ordonnée et coefficientée. Voici la distribution des prix d'une baguette dans une ville :  \n",
    "\n",
    "| Prix (centimes d'euro) | 68 | 70 | 72 | 74 | 75 | 76 | 78 | 80 | 85 | 90 | 92 |\n",
    "|:- |:-: |:-: |:-: |:-: |:-: |:-: |:-: |:-: |:-: |:-: |:-: |\n",
    "|Nombre de boulangeries | 1 | 1 | 2 | 4 | 6 | 5 | 3 | 4 | 2 | 2 | 1 |\n",
    "\n",
    "1. Calculer le prix médian d'une baguette dans cette ville.\n",
    "2. Écrire un programme qui :\n",
    "    - Demande à l'utilisateur le nombre de valeurs $n$ d'une série ;\n",
    "    - Crée une liste vide `listeValeurs` ;\n",
    "    - Demande les valeurs de la série à l'utilisateur et les stocke dans la liste `listeValeurs`.\n",
    "3. Compléter le programme précédent pour qu'il crée la liste des coefficients associée, `listeCoefs`.\n",
    "4. Compléter le programme précédent pour qu'il calcule l'effectif total de cette série.\n",
    "5. Compléter le programme précédent pour qu'il calcule le rang de la médiane de cette série.\n",
    "6. Compléter le programme précédent pour qu'il affiche la valeur de la médiane, `Me`, de cette série.\n"
   ]
  }
 ],
 "metadata": {
  "kernelspec": {
   "display_name": "Python 3",
   "language": "python",
   "name": "python3"
  },
  "language_info": {
   "codemirror_mode": {
    "name": "ipython",
    "version": 3
   },
   "file_extension": ".py",
   "mimetype": "text/x-python",
   "name": "python",
   "nbconvert_exporter": "python",
   "pygments_lexer": "ipython3",
   "version": "3.6.5"
  }
 },
 "nbformat": 4,
 "nbformat_minor": 2
}
